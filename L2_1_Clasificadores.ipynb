{
 "cells": [
  {
   "cell_type": "markdown",
   "id": "1580eda4",
   "metadata": {},
   "source": [
    "# 2.1 Clasificadores Bayesianos: Naive Bayes"
   ]
  },
  {
   "cell_type": "code",
   "execution_count": 1,
   "id": "b1e6ea2e",
   "metadata": {},
   "outputs": [],
   "source": [
    "import csv\n",
    "import math\n",
    "import random"
   ]
  },
  {
   "cell_type": "code",
   "execution_count": 8,
   "id": "f342e376",
   "metadata": {},
   "outputs": [],
   "source": [
    "def load_dataset(filename, split):\n",
    "    with open(filename, 'r') as csvfile:\n",
    "        lines = csv.reader(csvfile)\n",
    "        dataset = list(lines)\n",
    "        for i in range(len(dataset)):\n",
    "            dataset[i] = [float(x) for x in dataset[i]]\n",
    "        random.shuffle(dataset)\n",
    "        split_idx = int(len(dataset) * split)\n",
    "        train_set = dataset[:split_idx]\n",
    "        test_set = dataset[split_idx:]\n",
    "        return train_set, test_set"
   ]
  },
  {
   "cell_type": "code",
   "execution_count": 19,
   "id": "5008262b",
   "metadata": {},
   "outputs": [],
   "source": [
    "filename = 'data/iris.data'\n",
    "split = 0.67\n",
    "train_data, test_data = load_dataset(filename, split)"
   ]
  },
  {
   "cell_type": "code",
   "execution_count": 20,
   "id": "b4035a18",
   "metadata": {},
   "outputs": [],
   "source": [
    "# Define a function to calculate the mean of a list of numbers\n",
    "def mean(numbers):\n",
    "    return sum(numbers) / float(len(numbers))\n",
    "\n",
    "# Define a function to calculate the standard deviation of a list of numbers\n",
    "def stdev(numbers):\n",
    "    avg = mean(numbers)\n",
    "    variance = sum([pow(x - avg, 2) for x in numbers]) / float(len(numbers) - 1)\n",
    "    return math.sqrt(variance)\n",
    "\n",
    "# Define a function to summarize a dataset by class\n",
    "def summarize_dataset(dataset):\n",
    "    summaries = [(mean(attribute), stdev(attribute)) for attribute in zip(*dataset)]\n",
    "    del summaries[-1]\n",
    "    return summaries\n",
    "\n",
    "# Define a function to separate a dataset by class\n",
    "def separate_by_class(dataset):\n",
    "    separated = {}\n",
    "    for i in range(len(dataset)):\n",
    "        vector = dataset[i]\n",
    "        class_value = vector[-1]\n",
    "        if class_value not in separated:\n",
    "            separated[class_value] = []\n",
    "        separated[class_value].append(vector)\n",
    "    return separated\n",
    "\n",
    "# Define a function to calculate the probability density of a value given a mean and standard deviation\n",
    "def calculate_probability(x, mean, stdev):\n",
    "    exponent = math.exp(-(math.pow(x-mean, 2)/(2*math.pow(stdev, 2))))\n",
    "    return (1 / (math.sqrt(2*math.pi) * stdev)) * exponent\n",
    "\n",
    "# Define a function to calculate class probabilities for a dataset\n",
    "def calculate_class_probabilities(separated):\n",
    "    probabilities = {}\n",
    "    total_instances = sum([len(instances) for instances in separated.values()])\n",
    "    for class_value, instances in separated.items():\n",
    "        probabilities[class_value] = len(instances) / float(total_instances)\n",
    "    return probabilities\n",
    "\n",
    "# Define a function to train a Naive Bayes classifier on the Iris dataset\n",
    "def train_model(dataset):\n",
    "    separated = separate_by_class(dataset)\n",
    "    summaries = {}\n",
    "    for class_value, instances in separated.items():\n",
    "        summaries[class_value] = summarize_dataset(instances)\n",
    "        print(class_value, instances, summaries[class_value])\n",
    "        print(\"\\n\")\n",
    "    class_probabilities = calculate_class_probabilities(separated)\n",
    "    return class_probabilities, summaries\n",
    "\n",
    "# Define a function to make predictions for new iris plants\n",
    "def predict(class_probabilities, summaries, input_vector):\n",
    "    probabilities = class_probabilities.copy()\n",
    "    for class_value, class_summaries in summaries.items():\n",
    "        for i in range(len(class_summaries)):\n",
    "            mean, stdev = class_summaries[i]\n",
    "            x = input_vector[i]\n",
    "            probabilities[class_value] *= calculate_probability(x, mean, stdev)\n",
    "            print(class_value, class_summaries, probabilities[class_value])\n",
    "            print(\"\\n\")\n",
    "\n",
    "    return max(probabilities, key=probabilities.get)\n"
   ]
  },
  {
   "cell_type": "code",
   "execution_count": 21,
   "id": "086c4934",
   "metadata": {},
   "outputs": [
    {
     "name": "stdout",
     "output_type": "stream",
     "text": [
      "1.0 [[5.8, 2.6, 4.0, 1.2, 1.0], [5.1, 2.5, 3.0, 1.1, 1.0], [7.7, 2.8, 6.7, 2.0, 1.0], [5.0, 2.3, 3.3, 1.0, 1.0], [6.0, 2.2, 4.0, 1.0, 1.0], [6.7, 2.5, 5.8, 1.8, 1.0], [5.5, 2.5, 4.0, 1.3, 1.0], [6.1, 2.8, 4.0, 1.3, 1.0], [6.2, 2.9, 4.3, 1.3, 1.0], [6.2, 3.4, 5.4, 2.3, 1.0], [6.3, 2.5, 5.0, 1.9, 1.0], [5.7, 3.0, 4.2, 1.2, 1.0], [7.2, 3.0, 5.8, 1.6, 1.0], [6.9, 3.1, 5.1, 2.3, 1.0], [6.4, 3.2, 4.5, 1.5, 1.0], [7.3, 2.9, 6.3, 1.8, 1.0], [6.0, 2.7, 5.1, 1.6, 1.0], [5.8, 2.7, 4.1, 1.0, 1.0], [5.6, 2.9, 3.6, 1.3, 1.0], [6.1, 2.9, 4.7, 1.4, 1.0], [6.5, 3.0, 5.8, 2.2, 1.0], [6.4, 2.8, 5.6, 2.2, 1.0], [6.7, 3.0, 5.0, 1.7, 1.0], [6.3, 2.3, 4.4, 1.3, 1.0], [5.6, 2.5, 3.9, 1.1, 1.0], [7.1, 3.0, 5.9, 2.1, 1.0], [5.8, 2.7, 5.1, 1.9, 1.0], [5.5, 2.4, 3.7, 1.0, 1.0], [6.4, 2.8, 5.6, 2.1, 1.0], [7.9, 3.8, 6.4, 2.0, 1.0], [6.0, 2.9, 4.5, 1.5, 1.0], [5.9, 3.0, 4.2, 1.5, 1.0], [6.5, 3.2, 5.1, 2.0, 1.0], [6.0, 2.2, 5.0, 1.5, 1.0], [6.3, 3.4, 5.6, 2.4, 1.0], [5.9, 3.0, 5.1, 1.8, 1.0], [6.9, 3.2, 5.7, 2.3, 1.0], [6.4, 3.1, 5.5, 1.8, 1.0], [5.5, 2.3, 4.0, 1.3, 1.0], [6.3, 2.5, 4.9, 1.5, 1.0], [5.6, 3.0, 4.5, 1.5, 1.0], [6.4, 3.2, 5.3, 2.3, 1.0], [5.6, 3.0, 4.1, 1.3, 1.0], [6.7, 3.3, 5.7, 2.1, 1.0], [6.8, 3.2, 5.9, 2.3, 1.0], [5.6, 2.8, 4.9, 2.0, 1.0], [5.5, 2.6, 4.4, 1.2, 1.0], [6.3, 2.9, 5.6, 1.8, 1.0], [6.1, 2.6, 5.6, 1.4, 1.0], [6.4, 2.7, 5.3, 1.9, 1.0], [7.2, 3.6, 6.1, 2.5, 1.0], [6.3, 2.7, 4.9, 1.8, 1.0], [6.9, 3.1, 4.9, 1.5, 1.0], [7.2, 3.2, 6.0, 1.8, 1.0], [6.0, 3.4, 4.5, 1.6, 1.0], [6.8, 3.0, 5.5, 2.1, 1.0], [6.8, 2.8, 4.8, 1.4, 1.0], [6.5, 2.8, 4.6, 1.5, 1.0], [6.7, 3.3, 5.7, 2.5, 1.0], [16.4, 2.9, 4.3, 1.3, 1.0], [6.5, 3.0, 5.5, 1.8, 1.0], [5.7, 2.9, 4.2, 1.3, 1.0], [6.6, 2.9, 4.6, 1.3, 1.0], [6.1, 3.0, 4.9, 1.8, 1.0], [5.4, 3.0, 4.5, 1.5, 1.0], [6.3, 2.8, 5.1, 1.5, 1.0], [4.9, 2.4, 3.3, 1.0, 1.0]] [(6.400000000000001, 1.3819178592438008), (2.8746268656716425, 0.3299877332807761), (4.904477611940298, 0.8046141246850541), (1.6582089552238801, 0.41529443871508787)]\n",
      "\n",
      "\n",
      "0.0 [[4.4, 3.2, 1.3, 0.2, 0.0], [5.4, 3.9, 1.7, 0.4, 0.0], [4.6, 3.4, 1.4, 0.3, 0.0], [5.5, 4.2, 1.4, 0.2, 0.0], [5.2, 3.4, 1.4, 0.2, 0.0], [5.1, 3.3, 1.7, 0.5, 0.0], [4.6, 3.1, 1.5, 0.2, 0.0], [5.1, 3.8, 1.6, 0.2, 0.0], [5.0, 3.0, 1.6, 0.2, 0.0], [5.2, 4.1, 1.5, 0.1, 0.0], [5.3, 3.7, 1.5, 0.2, 0.0], [4.9, 3.1, 1.5, 0.1, 0.0], [5.4, 3.4, 1.5, 0.4, 0.0], [5.1, 3.5, 1.4, 0.3, 0.0], [5.4, 3.9, 1.3, 0.4, 0.0], [5.7, 3.8, 1.7, 0.3, 0.0], [5.0, 3.6, 1.4, 0.2, 0.0], [5.7, 4.4, 1.5, 0.4, 0.0], [4.4, 3.0, 1.3, 0.2, 0.0], [4.9, 3.1, 1.5, 0.1, 0.0], [5.4, 3.4, 1.7, 0.2, 0.0], [5.1, 3.8, 1.9, 0.4, 0.0], [5.0, 3.3, 1.4, 0.2, 0.0], [4.9, 3.0, 1.4, 0.2, 0.0], [5.0, 3.4, 1.5, 0.2, 0.0], [5.5, 3.5, 1.3, 0.2, 0.0], [4.8, 3.4, 1.6, 0.2, 0.0], [4.7, 3.2, 1.3, 0.2, 0.0], [5.1, 3.8, 1.5, 0.3, 0.0], [5.8, 4.0, 1.2, 0.2, 0.0], [5.0, 3.4, 1.6, 0.4, 0.0], [5.4, 3.7, 1.5, 0.2, 0.0], [5.0, 3.5, 1.6, 0.6, 0.0]] [(5.109090909090909, 0.35121542210909923), (3.5242424242424244, 0.3631720520551373), (1.4909090909090907, 0.15075567228888181), (0.2606060606060607, 0.11709876691119005)]\n",
      "\n",
      "\n"
     ]
    },
    {
     "data": {
      "text/plain": [
       "{1.0: 0.67, 0.0: 0.33}"
      ]
     },
     "execution_count": 21,
     "metadata": {},
     "output_type": "execute_result"
    }
   ],
   "source": [
    "# Train the Naive Bayes classifier on the Iris dataset\n",
    "class_probabilities, summaries = train_model(train_data)\n",
    "class_probabilities"
   ]
  },
  {
   "cell_type": "code",
   "execution_count": 22,
   "id": "cb23b3ac",
   "metadata": {},
   "outputs": [
    {
     "data": {
      "text/plain": [
       "{1.0: [(6.400000000000001, 1.3819178592438008),\n",
       "  (2.8746268656716425, 0.3299877332807761),\n",
       "  (4.904477611940298, 0.8046141246850541),\n",
       "  (1.6582089552238801, 0.41529443871508787)],\n",
       " 0.0: [(5.109090909090909, 0.35121542210909923),\n",
       "  (3.5242424242424244, 0.3631720520551373),\n",
       "  (1.4909090909090907, 0.15075567228888181),\n",
       "  (0.2606060606060607, 0.11709876691119005)]}"
      ]
     },
     "execution_count": 22,
     "metadata": {},
     "output_type": "execute_result"
    }
   ],
   "source": [
    "summaries"
   ]
  },
  {
   "cell_type": "code",
   "execution_count": 23,
   "id": "f9522c26",
   "metadata": {},
   "outputs": [
    {
     "name": "stdout",
     "output_type": "stream",
     "text": [
      "1.0 [(6.400000000000001, 1.3819178592438008), (2.8746268656716425, 0.3299877332807761), (4.904477611940298, 0.8046141246850541), (1.6582089552238801, 0.41529443871508787)] 0.12426151211476752\n",
      "\n",
      "\n",
      "1.0 [(6.400000000000001, 1.3819178592438008), (2.8746268656716425, 0.3299877332807761), (4.904477611940298, 0.8046141246850541), (1.6582089552238801, 0.41529443871508787)] 0.02493745089090167\n",
      "\n",
      "\n",
      "1.0 [(6.400000000000001, 1.3819178592438008), (2.8746268656716425, 0.3299877332807761), (4.904477611940298, 0.8046141246850541), (1.6582089552238801, 0.41529443871508787)] 9.394072263480838e-07\n",
      "\n",
      "\n",
      "1.0 [(6.400000000000001, 1.3819178592438008), (2.8746268656716425, 0.3299877332807761), (4.904477611940298, 0.8046141246850541), (1.6582089552238801, 0.41529443871508787)] 1.8975925827969555e-09\n",
      "\n",
      "\n",
      "0.0 [(5.109090909090909, 0.35121542210909923), (3.5242424242424244, 0.3631720520551373), (1.4909090909090907, 0.15075567228888181), (0.2606060606060607, 0.11709876691119005)] 0.3747183332766909\n",
      "\n",
      "\n",
      "0.0 [(5.109090909090909, 0.35121542210909923), (3.5242424242424244, 0.3631720520551373), (1.4909090909090907, 0.15075567228888181), (0.2606060606060607, 0.11709876691119005)] 0.4107097561669112\n",
      "\n",
      "\n",
      "0.0 [(5.109090909090909, 0.35121542210909923), (3.5242424242424244, 0.3631720520551373), (1.4909090909090907, 0.15075567228888181), (0.2606060606060607, 0.11709876691119005)] 0.9061681434210106\n",
      "\n",
      "\n",
      "0.0 [(5.109090909090909, 0.35121542210909923), (3.5242424242424244, 0.3631720520551373), (1.4909090909090907, 0.15075567228888181), (0.2606060606060607, 0.11709876691119005)] 2.7002181296807106\n",
      "\n",
      "\n",
      "The predicted class for the new iris plant is: 0.0\n"
     ]
    }
   ],
   "source": [
    "# Define the measurements of the new iris plant\n",
    "new_iris = [5.1, 3.5, 1.4, 0.2]\n",
    "\n",
    "# Make a prediction for the class of the new iris plant\n",
    "predicted_class = predict(class_probabilities, summaries, new_iris)\n",
    "\n",
    "print(f\"The predicted class for the new iris plant is: {predicted_class}\")"
   ]
  },
  {
   "cell_type": "markdown",
   "id": "6e7490c3",
   "metadata": {},
   "source": [
    "In the above code, the Bayes rule is implicitly used in the predict function when calculating the class probabilities for the test data.\n",
    "\n",
    "Recall that the Bayes rule states that:\n",
    "\n",
    "P(class | features) = P(features | class) * P(class) / P(features)\n",
    "\n",
    "where P(class | features) is the probability of the class given the observed features, P(features | class) is the probability of the observed features given the class, P(class) is the prior probability of the class, and P(features) is the marginal probability of the observed features.\n",
    "\n",
    "The Bayes rule is used to calculate the probability of a class given a set of input features. In this code, the Bayes rule is used in the following way:\n",
    "\n",
    "- First, the prior probability of each class is calculated using the class_probabilities dictionary, which contains the relative frequency of each class in the training data.\n",
    "\n",
    "- Then, the likelihood of the input features given each class is calculated using the calculate_probability() function, which returns the probability density of a value given a mean and standard deviation. This function is used to calculate the likelihood of each input feature given the mean and standard deviation of that feature in each class.\n",
    "\n",
    "- Finally, the posterior probability of each class is calculated by multiplying the prior probability by the likelihood of the input features given that class, and then normalizing the result to obtain a probability distribution over the classes.\n",
    "\n",
    "The predicted class is the class with the highest posterior probability. This is determined in the predict() function by calculating the posterior probability for each class and selecting the class with the highest probability."
   ]
  },
  {
   "cell_type": "code",
   "execution_count": null,
   "id": "a3bf471a",
   "metadata": {},
   "outputs": [],
   "source": []
  }
 ],
 "metadata": {
  "kernelspec": {
   "display_name": "Python 3 (ipykernel)",
   "language": "python",
   "name": "python3"
  },
  "language_info": {
   "codemirror_mode": {
    "name": "ipython",
    "version": 3
   },
   "file_extension": ".py",
   "mimetype": "text/x-python",
   "name": "python",
   "nbconvert_exporter": "python",
   "pygments_lexer": "ipython3",
   "version": "3.10.6"
  }
 },
 "nbformat": 4,
 "nbformat_minor": 5
}

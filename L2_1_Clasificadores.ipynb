{
 "cells": [
  {
   "cell_type": "markdown",
   "id": "1580eda4",
   "metadata": {},
   "source": [
    "# 2.1 Clasificadores Bayesianos: Naive Bayes\n",
    "\n",
    "1. Cargar el conjunto de datos de entrenamiento\n",
    "\n",
    "2. Calcular las probabilidades a priori de cada clase en el conjunto de entrenamiento\n",
    "\n",
    "3. Calcular las probabilidades condicionales de cada atributo dado cada clase en el conjunto de entrenamiento\n",
    "\n",
    "4. Repetir para cada instancia en el conjunto de prueba:\n",
    " \n",
    "    a. Calcular la probabilidad a posteriori para cada clase utilizando las probabilidades a priori y condicionales\n",
    " \n",
    "    b. Clasificar la instancia en la clase con la probabilidad a posteriori más alta\n"
   ]
  },
  {
   "cell_type": "code",
   "execution_count": 54,
   "id": "b1e6ea2e",
   "metadata": {},
   "outputs": [],
   "source": [
    "import csv\n",
    "import math\n",
    "import random\n",
    "import numpy as np\n",
    "import pandas as pd"
   ]
  },
  {
   "cell_type": "code",
   "execution_count": 43,
   "id": "f342e376",
   "metadata": {},
   "outputs": [],
   "source": [
    "class NaiveBayes:\n",
    "    def __init__(self):\n",
    "        self.priors = {}\n",
    "        self.means = {}\n",
    "        self.variances = {}\n",
    "\n",
    "    def fit(self, X, y):\n",
    "        # Calcula los priors para las clases\n",
    "        self.priors = {}\n",
    "        # tabla de frecuencias\n",
    "        unique_classes, counts = np.unique(y, return_counts=True)\n",
    "        total_samples = len(y)\n",
    "        \n",
    "        for c, count in zip(unique_classes, counts):\n",
    "            self.priors[c] = count / total_samples\n",
    "\n",
    "        # Calcula medias y varianzas para cada clase\n",
    "        self.means = {}\n",
    "        self.variances = {}\n",
    "        for c in unique_classes:\n",
    "#             X_c = X[y == c]\n",
    "            X_c = X[np.squeeze(y) == c]\n",
    "            self.means[c] = np.mean(X_c, axis=0)\n",
    "            self.variances[c] = np.var(X_c, axis=0)\n",
    "\n",
    "    def predict(self, X):\n",
    "        y_pred = []\n",
    "        # 1. Recorre cada muestra de los datos de prueba X.\n",
    "        for sample in X:\n",
    "            # 2. Inicializa una lista vacía posteriors \n",
    "            # para almacenar las probabilidades posteriores de cada clase para la muestra actual.\n",
    "            posteriors = []\n",
    "            # 3. Recorre cada clase en self.priors.keys(), que contiene las etiquetas de clase\n",
    "            # aprendidas durante el entrenamiento.\n",
    "            for c in self.priors.keys():\n",
    "                # 4. Para cada clase, calcula la probabilidad a priori (prior) de esa clase, que se \n",
    "                # almacena en self.priors.\n",
    "                prior = self.priors[c]                \n",
    "                # 5.Calcula la verosimilitud de que la muestra actual pertenezca a la clase actual \n",
    "                # utilizando el método gaussian_likelihood, que calcula la función de densidad de \n",
    "                # probabilidad gaussiana para cada característica de la muestra dada la media (self.means[c]) \n",
    "                # y la varianza (self.variances[c]) del atributo correspondiente para esa clase.\n",
    "                likelihood = np.prod(self.gaussian_likelihood(sample, self.means[c], self.variances[c]))\n",
    "                # Multicar el prior y el likelihood para obtener la posterior probability \n",
    "                # de la clase actual.\n",
    "                posterior = prior * likelihood\n",
    "                #  Añade la probabilidad posterior a la lista de posteriors.\n",
    "                posteriors.append(posterior)\n",
    "            # Después de recorrer todas las clases, selecciona la clase con la máxima \n",
    "            # probabilidad posterior utilizando la función max con una función lambda personalizada y añade \n",
    "            # la etiqueta de clase correspondiente a la lista y_pred, que almacena las etiquetas de clase previstas \n",
    "            # para todas las muestras.\n",
    "            y_pred.append(max(self.priors, key=lambda x: posteriors[x]))\n",
    "        # Devuelve la lista y_pred que contiene las etiquetas de clase predichas para todas las muestras de X.\n",
    "        return y_pred\n",
    "\n",
    "    def gaussian_likelihood(self, x, mean, variance):\n",
    "        likelihood = (1 / np.sqrt(2 * np.pi * variance)) * np.exp(-((x - mean) ** 2) / (2 * variance))\n",
    "        return likelihood\n"
   ]
  },
  {
   "cell_type": "code",
   "execution_count": 44,
   "id": "5008262b",
   "metadata": {},
   "outputs": [],
   "source": [
    "# Example usage with a small dataset\n",
    "X_train = np.array([[2.0, 2.0], [1.0, 4.0], [2.5, 1.5], [1.5, 3.5], [3.0, 2.0], [3.5, 0.5]])\n",
    "y_train = np.array([0, 0, 0, 1, 1, 1])\n",
    "\n",
    "# Instantiate and fit the NaiveBayes classifier\n",
    "clf = NaiveBayes()\n",
    "clf.fit(X_train, y_train)"
   ]
  },
  {
   "cell_type": "code",
   "execution_count": 45,
   "id": "b4035a18",
   "metadata": {},
   "outputs": [
    {
     "name": "stdout",
     "output_type": "stream",
     "text": [
      "Predictions: [0, 0, 1, 0]\n"
     ]
    }
   ],
   "source": [
    "# Example test data\n",
    "X_test = np.array([[2.1, 1.9], [1.3, 3.8], [3.2, 1.6], [2.0, 3.0]])\n",
    "\n",
    "# Make predictions\n",
    "y_pred = clf.predict(X_test)\n",
    "\n",
    "# Print predictions\n",
    "print(\"Predictions:\", y_pred)"
   ]
  },
  {
   "cell_type": "markdown",
   "id": "3516a26e",
   "metadata": {},
   "source": [
    "### Algún ejemplo más elaborado con los datos iris: https://archive.ics.uci.edu/ml/datasets/iris \n",
    "\n",
    "0 -> Iris-setosa\n",
    "1 -> Iris-versicolor\n",
    "2 -> Iris-virginica"
   ]
  },
  {
   "cell_type": "code",
   "execution_count": 50,
   "id": "e1a89e29",
   "metadata": {},
   "outputs": [
    {
     "data": {
      "text/html": [
       "<div>\n",
       "<style scoped>\n",
       "    .dataframe tbody tr th:only-of-type {\n",
       "        vertical-align: middle;\n",
       "    }\n",
       "\n",
       "    .dataframe tbody tr th {\n",
       "        vertical-align: top;\n",
       "    }\n",
       "\n",
       "    .dataframe thead th {\n",
       "        text-align: right;\n",
       "    }\n",
       "</style>\n",
       "<table border=\"1\" class=\"dataframe\">\n",
       "  <thead>\n",
       "    <tr style=\"text-align: right;\">\n",
       "      <th></th>\n",
       "      <th>sepal_length</th>\n",
       "      <th>sepal_width</th>\n",
       "      <th>petal_length</th>\n",
       "      <th>petal_width</th>\n",
       "      <th>class</th>\n",
       "    </tr>\n",
       "  </thead>\n",
       "  <tbody>\n",
       "    <tr>\n",
       "      <th>0</th>\n",
       "      <td>5.1</td>\n",
       "      <td>3.5</td>\n",
       "      <td>1.4</td>\n",
       "      <td>0.2</td>\n",
       "      <td>0</td>\n",
       "    </tr>\n",
       "    <tr>\n",
       "      <th>1</th>\n",
       "      <td>4.9</td>\n",
       "      <td>3.0</td>\n",
       "      <td>1.4</td>\n",
       "      <td>0.2</td>\n",
       "      <td>0</td>\n",
       "    </tr>\n",
       "    <tr>\n",
       "      <th>2</th>\n",
       "      <td>4.7</td>\n",
       "      <td>3.2</td>\n",
       "      <td>1.3</td>\n",
       "      <td>0.2</td>\n",
       "      <td>0</td>\n",
       "    </tr>\n",
       "    <tr>\n",
       "      <th>3</th>\n",
       "      <td>4.6</td>\n",
       "      <td>3.1</td>\n",
       "      <td>1.5</td>\n",
       "      <td>0.2</td>\n",
       "      <td>0</td>\n",
       "    </tr>\n",
       "    <tr>\n",
       "      <th>4</th>\n",
       "      <td>5.0</td>\n",
       "      <td>3.6</td>\n",
       "      <td>1.4</td>\n",
       "      <td>0.2</td>\n",
       "      <td>0</td>\n",
       "    </tr>\n",
       "  </tbody>\n",
       "</table>\n",
       "</div>"
      ],
      "text/plain": [
       "   sepal_length  sepal_width  petal_length  petal_width  class\n",
       "0           5.1          3.5           1.4          0.2      0\n",
       "1           4.9          3.0           1.4          0.2      0\n",
       "2           4.7          3.2           1.3          0.2      0\n",
       "3           4.6          3.1           1.5          0.2      0\n",
       "4           5.0          3.6           1.4          0.2      0"
      ]
     },
     "execution_count": 50,
     "metadata": {},
     "output_type": "execute_result"
    }
   ],
   "source": [
    "data = pd.read_csv(\"data/iris.data\")\n",
    "data.head()"
   ]
  },
  {
   "cell_type": "code",
   "execution_count": 51,
   "id": "713b7249",
   "metadata": {},
   "outputs": [],
   "source": [
    "X = data[['sepal_length', 'sepal_width', 'petal_length', 'petal_width']].values\n",
    "Y = data[['class']].values"
   ]
  },
  {
   "cell_type": "code",
   "execution_count": 52,
   "id": "d8ee509b",
   "metadata": {},
   "outputs": [
    {
     "data": {
      "text/plain": [
       "((150, 4), (150, 1))"
      ]
     },
     "execution_count": 52,
     "metadata": {},
     "output_type": "execute_result"
    }
   ],
   "source": [
    "np.shape(X), np.shape(Y)"
   ]
  },
  {
   "cell_type": "code",
   "execution_count": 53,
   "id": "fcf5c4dd",
   "metadata": {},
   "outputs": [],
   "source": [
    "# Instantiate and fit the NaiveBayes classifier\n",
    "clf = NaiveBayes()\n",
    "clf.fit(X,Y)"
   ]
  },
  {
   "cell_type": "markdown",
   "id": "3741c1cf",
   "metadata": {},
   "source": [
    "### Ejercicio: Variar ligeramente los valores de 3 diferentes registros y verificar la predicción de la especie hecha por el clasificador. "
   ]
  },
  {
   "cell_type": "code",
   "execution_count": 55,
   "id": "b9b864d5",
   "metadata": {},
   "outputs": [
    {
     "ename": "TypeError",
     "evalue": "array() missing required argument 'object' (pos 0)",
     "output_type": "error",
     "traceback": [
      "\u001b[0;31m---------------------------------------------------------------------------\u001b[0m",
      "\u001b[0;31mTypeError\u001b[0m                                 Traceback (most recent call last)",
      "\u001b[0;32m/tmp/ipykernel_20533/503442414.py\u001b[0m in \u001b[0;36m<module>\u001b[0;34m\u001b[0m\n\u001b[1;32m      1\u001b[0m \u001b[0;31m# Example test data\u001b[0m\u001b[0;34m\u001b[0m\u001b[0;34m\u001b[0m\u001b[0m\n\u001b[0;32m----> 2\u001b[0;31m \u001b[0mX_test\u001b[0m \u001b[0;34m=\u001b[0m \u001b[0mnp\u001b[0m\u001b[0;34m.\u001b[0m\u001b[0marray\u001b[0m\u001b[0;34m(\u001b[0m\u001b[0;34m)\u001b[0m\u001b[0;34m\u001b[0m\u001b[0;34m\u001b[0m\u001b[0m\n\u001b[0m\u001b[1;32m      3\u001b[0m \u001b[0;34m\u001b[0m\u001b[0m\n\u001b[1;32m      4\u001b[0m \u001b[0;31m# Make predictions\u001b[0m\u001b[0;34m\u001b[0m\u001b[0;34m\u001b[0m\u001b[0m\n\u001b[1;32m      5\u001b[0m \u001b[0my_pred\u001b[0m \u001b[0;34m=\u001b[0m \u001b[0mclf\u001b[0m\u001b[0;34m.\u001b[0m\u001b[0mpredict\u001b[0m\u001b[0;34m(\u001b[0m\u001b[0mX_test\u001b[0m\u001b[0;34m)\u001b[0m\u001b[0;34m\u001b[0m\u001b[0;34m\u001b[0m\u001b[0m\n",
      "\u001b[0;31mTypeError\u001b[0m: array() missing required argument 'object' (pos 0)"
     ]
    }
   ],
   "source": [
    "# Example test data\n",
    "X_test = np.array()\n",
    "\n",
    "# Make predictions\n",
    "y_pred = clf.predict(X_test)\n",
    "\n",
    "# Print predictions\n",
    "print(\"Predictions:\", y_pred)"
   ]
  },
  {
   "cell_type": "code",
   "execution_count": null,
   "id": "a9ed6d2a",
   "metadata": {},
   "outputs": [],
   "source": []
  }
 ],
 "metadata": {
  "kernelspec": {
   "display_name": "Python 3 (ipykernel)",
   "language": "python",
   "name": "python3"
  },
  "language_info": {
   "codemirror_mode": {
    "name": "ipython",
    "version": 3
   },
   "file_extension": ".py",
   "mimetype": "text/x-python",
   "name": "python",
   "nbconvert_exporter": "python",
   "pygments_lexer": "ipython3",
   "version": "3.10.6"
  }
 },
 "nbformat": 4,
 "nbformat_minor": 5
}

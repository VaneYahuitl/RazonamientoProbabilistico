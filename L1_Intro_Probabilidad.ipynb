{
 "cells": [
  {
   "cell_type": "markdown",
   "id": "79be6f97",
   "metadata": {},
   "source": [
    "# 1. Repaso de probabilidad\n",
    "\n",
    "## 1.1. Probabilidad condicional\n",
    "\n",
    "### $P(A|B) = \\frac{P(A ∩ B)}{P(B)}$\n",
    "\n",
    "![](https://miro.medium.com/v2/resize:fit:4800/format:webp/1*8GB3SuoGNOaFW5rk8zZp3w.png)\n",
    "![](https://upload.wikimedia.org/wikipedia/commons/thumb/8/8a/Conditional_probability_venn_1-10.svg/744px-Conditional_probability_venn_1-10.svg.png)\n",
    "\n",
    "Referencias de esta notebook:\n",
    "- https://towardsdatascience.com/conditional-probability-with-a-python-example-fd6f5937cd2\n",
    "- https://www.statology.org/conditional-probability-in-python/\n",
    "- https://machinelearningmastery.com/bayes-theorem-for-machine-learning/\n",
    "- https://towardsdatascience.com/bayes-theorem-with-example-for-data-science-professionals-55b4d52f8967\n",
    "- https://towardsdatascience.com/bayes-rule-with-a-simple-and-practical-example-2bce3d0f4ad0\n",
    "\n",
    "**Analicemos la siguiente base de datos:** https://www.kaggle.com/datasets/uciml/student-alcohol-consumption e intentemos responder la pregunta:\n",
    "\n",
    "### 1) ¿Qué probabilidad hay de que un estudiante pase con calificación mayor de 8 dado que faltó 10 veces o más a clase?"
   ]
  },
  {
   "cell_type": "code",
   "execution_count": 1,
   "id": "3615fe02",
   "metadata": {},
   "outputs": [],
   "source": [
    "import pandas as pd\n",
    "import numpy as np"
   ]
  },
  {
   "cell_type": "code",
   "execution_count": 2,
   "id": "bb6d5b4c",
   "metadata": {},
   "outputs": [
    {
     "data": {
      "text/html": [
       "<div>\n",
       "<style scoped>\n",
       "    .dataframe tbody tr th:only-of-type {\n",
       "        vertical-align: middle;\n",
       "    }\n",
       "\n",
       "    .dataframe tbody tr th {\n",
       "        vertical-align: top;\n",
       "    }\n",
       "\n",
       "    .dataframe thead th {\n",
       "        text-align: right;\n",
       "    }\n",
       "</style>\n",
       "<table border=\"1\" class=\"dataframe\">\n",
       "  <thead>\n",
       "    <tr style=\"text-align: right;\">\n",
       "      <th></th>\n",
       "      <th>school</th>\n",
       "      <th>sex</th>\n",
       "      <th>age</th>\n",
       "      <th>address</th>\n",
       "      <th>famsize</th>\n",
       "      <th>Pstatus</th>\n",
       "      <th>Medu</th>\n",
       "      <th>Fedu</th>\n",
       "      <th>Mjob</th>\n",
       "      <th>Fjob</th>\n",
       "      <th>...</th>\n",
       "      <th>famrel</th>\n",
       "      <th>freetime</th>\n",
       "      <th>goout</th>\n",
       "      <th>Dalc</th>\n",
       "      <th>Walc</th>\n",
       "      <th>health</th>\n",
       "      <th>absences</th>\n",
       "      <th>G1</th>\n",
       "      <th>G2</th>\n",
       "      <th>G3</th>\n",
       "    </tr>\n",
       "  </thead>\n",
       "  <tbody>\n",
       "    <tr>\n",
       "      <th>0</th>\n",
       "      <td>GP</td>\n",
       "      <td>F</td>\n",
       "      <td>18</td>\n",
       "      <td>U</td>\n",
       "      <td>GT3</td>\n",
       "      <td>A</td>\n",
       "      <td>4</td>\n",
       "      <td>4</td>\n",
       "      <td>at_home</td>\n",
       "      <td>teacher</td>\n",
       "      <td>...</td>\n",
       "      <td>4</td>\n",
       "      <td>3</td>\n",
       "      <td>4</td>\n",
       "      <td>1</td>\n",
       "      <td>1</td>\n",
       "      <td>3</td>\n",
       "      <td>6</td>\n",
       "      <td>5</td>\n",
       "      <td>6</td>\n",
       "      <td>6</td>\n",
       "    </tr>\n",
       "    <tr>\n",
       "      <th>1</th>\n",
       "      <td>GP</td>\n",
       "      <td>F</td>\n",
       "      <td>17</td>\n",
       "      <td>U</td>\n",
       "      <td>GT3</td>\n",
       "      <td>T</td>\n",
       "      <td>1</td>\n",
       "      <td>1</td>\n",
       "      <td>at_home</td>\n",
       "      <td>other</td>\n",
       "      <td>...</td>\n",
       "      <td>5</td>\n",
       "      <td>3</td>\n",
       "      <td>3</td>\n",
       "      <td>1</td>\n",
       "      <td>1</td>\n",
       "      <td>3</td>\n",
       "      <td>4</td>\n",
       "      <td>5</td>\n",
       "      <td>5</td>\n",
       "      <td>6</td>\n",
       "    </tr>\n",
       "    <tr>\n",
       "      <th>2</th>\n",
       "      <td>GP</td>\n",
       "      <td>F</td>\n",
       "      <td>15</td>\n",
       "      <td>U</td>\n",
       "      <td>LE3</td>\n",
       "      <td>T</td>\n",
       "      <td>1</td>\n",
       "      <td>1</td>\n",
       "      <td>at_home</td>\n",
       "      <td>other</td>\n",
       "      <td>...</td>\n",
       "      <td>4</td>\n",
       "      <td>3</td>\n",
       "      <td>2</td>\n",
       "      <td>2</td>\n",
       "      <td>3</td>\n",
       "      <td>3</td>\n",
       "      <td>10</td>\n",
       "      <td>7</td>\n",
       "      <td>8</td>\n",
       "      <td>10</td>\n",
       "    </tr>\n",
       "  </tbody>\n",
       "</table>\n",
       "<p>3 rows × 33 columns</p>\n",
       "</div>"
      ],
      "text/plain": [
       "  school sex  age address famsize Pstatus  Medu  Fedu     Mjob     Fjob  ...  \\\n",
       "0     GP   F   18       U     GT3       A     4     4  at_home  teacher  ...   \n",
       "1     GP   F   17       U     GT3       T     1     1  at_home    other  ...   \n",
       "2     GP   F   15       U     LE3       T     1     1  at_home    other  ...   \n",
       "\n",
       "  famrel freetime  goout  Dalc  Walc health absences G1 G2  G3  \n",
       "0      4        3      4     1     1      3        6  5  6   6  \n",
       "1      5        3      3     1     1      3        4  5  5   6  \n",
       "2      4        3      2     2     3      3       10  7  8  10  \n",
       "\n",
       "[3 rows x 33 columns]"
      ]
     },
     "execution_count": 2,
     "metadata": {},
     "output_type": "execute_result"
    }
   ],
   "source": [
    "data = pd.read_csv('data/StudentAlcoholConsumption/student-mat.csv')\n",
    "data.head(3)"
   ]
  },
  {
   "cell_type": "code",
   "execution_count": 3,
   "id": "c64078d7",
   "metadata": {},
   "outputs": [
    {
     "data": {
      "text/html": [
       "<div>\n",
       "<style scoped>\n",
       "    .dataframe tbody tr th:only-of-type {\n",
       "        vertical-align: middle;\n",
       "    }\n",
       "\n",
       "    .dataframe tbody tr th {\n",
       "        vertical-align: top;\n",
       "    }\n",
       "\n",
       "    .dataframe thead th {\n",
       "        text-align: right;\n",
       "    }\n",
       "</style>\n",
       "<table border=\"1\" class=\"dataframe\">\n",
       "  <thead>\n",
       "    <tr style=\"text-align: right;\">\n",
       "      <th></th>\n",
       "      <th>G3</th>\n",
       "      <th>absences</th>\n",
       "    </tr>\n",
       "  </thead>\n",
       "  <tbody>\n",
       "    <tr>\n",
       "      <th>0</th>\n",
       "      <td>6</td>\n",
       "      <td>6</td>\n",
       "    </tr>\n",
       "    <tr>\n",
       "      <th>1</th>\n",
       "      <td>6</td>\n",
       "      <td>4</td>\n",
       "    </tr>\n",
       "    <tr>\n",
       "      <th>2</th>\n",
       "      <td>10</td>\n",
       "      <td>10</td>\n",
       "    </tr>\n",
       "  </tbody>\n",
       "</table>\n",
       "</div>"
      ],
      "text/plain": [
       "   G3  absences\n",
       "0   6         6\n",
       "1   6         4\n",
       "2  10        10"
      ]
     },
     "execution_count": 3,
     "metadata": {},
     "output_type": "execute_result"
    }
   ],
   "source": [
    "df = data[['G3', 'absences']]\n",
    "df.head(3)"
   ]
  },
  {
   "cell_type": "markdown",
   "id": "b77d15e0",
   "metadata": {},
   "source": [
    "G3 - final grade (numeric: from 0 to 20, output target) "
   ]
  },
  {
   "cell_type": "code",
   "execution_count": 4,
   "id": "49951a9b",
   "metadata": {},
   "outputs": [
    {
     "name": "stderr",
     "output_type": "stream",
     "text": [
      "/tmp/ipykernel_12867/1835273762.py:1: SettingWithCopyWarning: \n",
      "A value is trying to be set on a copy of a slice from a DataFrame.\n",
      "Try using .loc[row_indexer,col_indexer] = value instead\n",
      "\n",
      "See the caveats in the documentation: https://pandas.pydata.org/pandas-docs/stable/user_guide/indexing.html#returning-a-view-versus-a-copy\n",
      "  df['calif'] = np.where(df['G3']*5 >= 80, 1, 0)\n"
     ]
    },
    {
     "data": {
      "text/html": [
       "<div>\n",
       "<style scoped>\n",
       "    .dataframe tbody tr th:only-of-type {\n",
       "        vertical-align: middle;\n",
       "    }\n",
       "\n",
       "    .dataframe tbody tr th {\n",
       "        vertical-align: top;\n",
       "    }\n",
       "\n",
       "    .dataframe thead th {\n",
       "        text-align: right;\n",
       "    }\n",
       "</style>\n",
       "<table border=\"1\" class=\"dataframe\">\n",
       "  <thead>\n",
       "    <tr style=\"text-align: right;\">\n",
       "      <th></th>\n",
       "      <th>G3</th>\n",
       "      <th>absences</th>\n",
       "      <th>calif</th>\n",
       "    </tr>\n",
       "  </thead>\n",
       "  <tbody>\n",
       "    <tr>\n",
       "      <th>0</th>\n",
       "      <td>6</td>\n",
       "      <td>6</td>\n",
       "      <td>0</td>\n",
       "    </tr>\n",
       "    <tr>\n",
       "      <th>1</th>\n",
       "      <td>6</td>\n",
       "      <td>4</td>\n",
       "      <td>0</td>\n",
       "    </tr>\n",
       "    <tr>\n",
       "      <th>2</th>\n",
       "      <td>10</td>\n",
       "      <td>10</td>\n",
       "      <td>0</td>\n",
       "    </tr>\n",
       "  </tbody>\n",
       "</table>\n",
       "</div>"
      ],
      "text/plain": [
       "   G3  absences  calif\n",
       "0   6         6      0\n",
       "1   6         4      0\n",
       "2  10        10      0"
      ]
     },
     "execution_count": 4,
     "metadata": {},
     "output_type": "execute_result"
    }
   ],
   "source": [
    "df['calif'] = np.where(df['G3']*5 >= 80, 1, 0)\n",
    "df.head(3)"
   ]
  },
  {
   "cell_type": "markdown",
   "id": "e86e5ead",
   "metadata": {},
   "source": [
    "absences - number of school absences (numeric: from 0 to 93), considerar un alto ausentismo si faltó 10 veces o más."
   ]
  },
  {
   "cell_type": "code",
   "execution_count": 5,
   "id": "59648185",
   "metadata": {},
   "outputs": [
    {
     "name": "stderr",
     "output_type": "stream",
     "text": [
      "/tmp/ipykernel_12867/3134837393.py:1: SettingWithCopyWarning: \n",
      "A value is trying to be set on a copy of a slice from a DataFrame.\n",
      "Try using .loc[row_indexer,col_indexer] = value instead\n",
      "\n",
      "See the caveats in the documentation: https://pandas.pydata.org/pandas-docs/stable/user_guide/indexing.html#returning-a-view-versus-a-copy\n",
      "  df['ausencias_altas'] = np.where(df['absences'] >= 10, 1, 0)\n"
     ]
    },
    {
     "data": {
      "text/html": [
       "<div>\n",
       "<style scoped>\n",
       "    .dataframe tbody tr th:only-of-type {\n",
       "        vertical-align: middle;\n",
       "    }\n",
       "\n",
       "    .dataframe tbody tr th {\n",
       "        vertical-align: top;\n",
       "    }\n",
       "\n",
       "    .dataframe thead th {\n",
       "        text-align: right;\n",
       "    }\n",
       "</style>\n",
       "<table border=\"1\" class=\"dataframe\">\n",
       "  <thead>\n",
       "    <tr style=\"text-align: right;\">\n",
       "      <th></th>\n",
       "      <th>G3</th>\n",
       "      <th>absences</th>\n",
       "      <th>calif</th>\n",
       "      <th>ausencias_altas</th>\n",
       "    </tr>\n",
       "  </thead>\n",
       "  <tbody>\n",
       "    <tr>\n",
       "      <th>0</th>\n",
       "      <td>6</td>\n",
       "      <td>6</td>\n",
       "      <td>0</td>\n",
       "      <td>0</td>\n",
       "    </tr>\n",
       "    <tr>\n",
       "      <th>1</th>\n",
       "      <td>6</td>\n",
       "      <td>4</td>\n",
       "      <td>0</td>\n",
       "      <td>0</td>\n",
       "    </tr>\n",
       "    <tr>\n",
       "      <th>2</th>\n",
       "      <td>10</td>\n",
       "      <td>10</td>\n",
       "      <td>0</td>\n",
       "      <td>1</td>\n",
       "    </tr>\n",
       "  </tbody>\n",
       "</table>\n",
       "</div>"
      ],
      "text/plain": [
       "   G3  absences  calif  ausencias_altas\n",
       "0   6         6      0                0\n",
       "1   6         4      0                0\n",
       "2  10        10      0                1"
      ]
     },
     "execution_count": 5,
     "metadata": {},
     "output_type": "execute_result"
    }
   ],
   "source": [
    "df['ausencias_altas'] = np.where(df['absences'] >= 10, 1, 0)\n",
    "df.head(3)"
   ]
  },
  {
   "cell_type": "code",
   "execution_count": 6,
   "id": "ed5f217e",
   "metadata": {},
   "outputs": [
    {
     "name": "stderr",
     "output_type": "stream",
     "text": [
      "/tmp/ipykernel_12867/1458621534.py:1: SettingWithCopyWarning: \n",
      "A value is trying to be set on a copy of a slice from a DataFrame.\n",
      "Try using .loc[row_indexer,col_indexer] = value instead\n",
      "\n",
      "See the caveats in the documentation: https://pandas.pydata.org/pandas-docs/stable/user_guide/indexing.html#returning-a-view-versus-a-copy\n",
      "  df['contador'] = 1\n"
     ]
    },
    {
     "data": {
      "text/html": [
       "<div>\n",
       "<style scoped>\n",
       "    .dataframe tbody tr th:only-of-type {\n",
       "        vertical-align: middle;\n",
       "    }\n",
       "\n",
       "    .dataframe tbody tr th {\n",
       "        vertical-align: top;\n",
       "    }\n",
       "\n",
       "    .dataframe thead th {\n",
       "        text-align: right;\n",
       "    }\n",
       "</style>\n",
       "<table border=\"1\" class=\"dataframe\">\n",
       "  <thead>\n",
       "    <tr style=\"text-align: right;\">\n",
       "      <th></th>\n",
       "      <th>G3</th>\n",
       "      <th>absences</th>\n",
       "      <th>calif</th>\n",
       "      <th>ausencias_altas</th>\n",
       "      <th>contador</th>\n",
       "    </tr>\n",
       "  </thead>\n",
       "  <tbody>\n",
       "    <tr>\n",
       "      <th>0</th>\n",
       "      <td>6</td>\n",
       "      <td>6</td>\n",
       "      <td>0</td>\n",
       "      <td>0</td>\n",
       "      <td>1</td>\n",
       "    </tr>\n",
       "    <tr>\n",
       "      <th>1</th>\n",
       "      <td>6</td>\n",
       "      <td>4</td>\n",
       "      <td>0</td>\n",
       "      <td>0</td>\n",
       "      <td>1</td>\n",
       "    </tr>\n",
       "    <tr>\n",
       "      <th>2</th>\n",
       "      <td>10</td>\n",
       "      <td>10</td>\n",
       "      <td>0</td>\n",
       "      <td>1</td>\n",
       "      <td>1</td>\n",
       "    </tr>\n",
       "    <tr>\n",
       "      <th>3</th>\n",
       "      <td>15</td>\n",
       "      <td>2</td>\n",
       "      <td>0</td>\n",
       "      <td>0</td>\n",
       "      <td>1</td>\n",
       "    </tr>\n",
       "    <tr>\n",
       "      <th>4</th>\n",
       "      <td>10</td>\n",
       "      <td>4</td>\n",
       "      <td>0</td>\n",
       "      <td>0</td>\n",
       "      <td>1</td>\n",
       "    </tr>\n",
       "    <tr>\n",
       "      <th>5</th>\n",
       "      <td>15</td>\n",
       "      <td>10</td>\n",
       "      <td>0</td>\n",
       "      <td>1</td>\n",
       "      <td>1</td>\n",
       "    </tr>\n",
       "    <tr>\n",
       "      <th>6</th>\n",
       "      <td>11</td>\n",
       "      <td>0</td>\n",
       "      <td>0</td>\n",
       "      <td>0</td>\n",
       "      <td>1</td>\n",
       "    </tr>\n",
       "    <tr>\n",
       "      <th>7</th>\n",
       "      <td>6</td>\n",
       "      <td>6</td>\n",
       "      <td>0</td>\n",
       "      <td>0</td>\n",
       "      <td>1</td>\n",
       "    </tr>\n",
       "    <tr>\n",
       "      <th>8</th>\n",
       "      <td>19</td>\n",
       "      <td>0</td>\n",
       "      <td>1</td>\n",
       "      <td>0</td>\n",
       "      <td>1</td>\n",
       "    </tr>\n",
       "    <tr>\n",
       "      <th>9</th>\n",
       "      <td>15</td>\n",
       "      <td>0</td>\n",
       "      <td>0</td>\n",
       "      <td>0</td>\n",
       "      <td>1</td>\n",
       "    </tr>\n",
       "  </tbody>\n",
       "</table>\n",
       "</div>"
      ],
      "text/plain": [
       "   G3  absences  calif  ausencias_altas  contador\n",
       "0   6         6      0                0         1\n",
       "1   6         4      0                0         1\n",
       "2  10        10      0                1         1\n",
       "3  15         2      0                0         1\n",
       "4  10         4      0                0         1\n",
       "5  15        10      0                1         1\n",
       "6  11         0      0                0         1\n",
       "7   6         6      0                0         1\n",
       "8  19         0      1                0         1\n",
       "9  15         0      0                0         1"
      ]
     },
     "execution_count": 6,
     "metadata": {},
     "output_type": "execute_result"
    }
   ],
   "source": [
    "df['contador'] = 1\n",
    "df.head(10)"
   ]
  },
  {
   "cell_type": "code",
   "execution_count": 7,
   "id": "736f7229",
   "metadata": {},
   "outputs": [
    {
     "data": {
      "text/html": [
       "<div>\n",
       "<style scoped>\n",
       "    .dataframe tbody tr th:only-of-type {\n",
       "        vertical-align: middle;\n",
       "    }\n",
       "\n",
       "    .dataframe tbody tr th {\n",
       "        vertical-align: top;\n",
       "    }\n",
       "\n",
       "    .dataframe thead th {\n",
       "        text-align: right;\n",
       "    }\n",
       "</style>\n",
       "<table border=\"1\" class=\"dataframe\">\n",
       "  <thead>\n",
       "    <tr style=\"text-align: right;\">\n",
       "      <th></th>\n",
       "      <th>calif</th>\n",
       "      <th>ausencias_altas</th>\n",
       "      <th>contador</th>\n",
       "    </tr>\n",
       "  </thead>\n",
       "  <tbody>\n",
       "    <tr>\n",
       "      <th>0</th>\n",
       "      <td>0</td>\n",
       "      <td>0</td>\n",
       "      <td>1</td>\n",
       "    </tr>\n",
       "    <tr>\n",
       "      <th>1</th>\n",
       "      <td>0</td>\n",
       "      <td>0</td>\n",
       "      <td>1</td>\n",
       "    </tr>\n",
       "    <tr>\n",
       "      <th>2</th>\n",
       "      <td>0</td>\n",
       "      <td>1</td>\n",
       "      <td>1</td>\n",
       "    </tr>\n",
       "    <tr>\n",
       "      <th>3</th>\n",
       "      <td>0</td>\n",
       "      <td>0</td>\n",
       "      <td>1</td>\n",
       "    </tr>\n",
       "    <tr>\n",
       "      <th>4</th>\n",
       "      <td>0</td>\n",
       "      <td>0</td>\n",
       "      <td>1</td>\n",
       "    </tr>\n",
       "  </tbody>\n",
       "</table>\n",
       "</div>"
      ],
      "text/plain": [
       "   calif  ausencias_altas  contador\n",
       "0      0                0         1\n",
       "1      0                0         1\n",
       "2      0                1         1\n",
       "3      0                0         1\n",
       "4      0                0         1"
      ]
     },
     "execution_count": 7,
     "metadata": {},
     "output_type": "execute_result"
    }
   ],
   "source": [
    "df = df[['calif','ausencias_altas','contador']]\n",
    "df.head()"
   ]
  },
  {
   "cell_type": "code",
   "execution_count": 8,
   "id": "07bbe430",
   "metadata": {},
   "outputs": [
    {
     "data": {
      "text/html": [
       "<div>\n",
       "<style scoped>\n",
       "    .dataframe tbody tr th:only-of-type {\n",
       "        vertical-align: middle;\n",
       "    }\n",
       "\n",
       "    .dataframe tbody tr th {\n",
       "        vertical-align: top;\n",
       "    }\n",
       "\n",
       "    .dataframe thead th {\n",
       "        text-align: right;\n",
       "    }\n",
       "</style>\n",
       "<table border=\"1\" class=\"dataframe\">\n",
       "  <thead>\n",
       "    <tr style=\"text-align: right;\">\n",
       "      <th>ausencias_altas</th>\n",
       "      <th>0</th>\n",
       "      <th>1</th>\n",
       "      <th>All</th>\n",
       "    </tr>\n",
       "    <tr>\n",
       "      <th>calif</th>\n",
       "      <th></th>\n",
       "      <th></th>\n",
       "      <th></th>\n",
       "    </tr>\n",
       "  </thead>\n",
       "  <tbody>\n",
       "    <tr>\n",
       "      <th>0</th>\n",
       "      <td>277</td>\n",
       "      <td>78</td>\n",
       "      <td>355</td>\n",
       "    </tr>\n",
       "    <tr>\n",
       "      <th>1</th>\n",
       "      <td>35</td>\n",
       "      <td>5</td>\n",
       "      <td>40</td>\n",
       "    </tr>\n",
       "    <tr>\n",
       "      <th>All</th>\n",
       "      <td>312</td>\n",
       "      <td>83</td>\n",
       "      <td>395</td>\n",
       "    </tr>\n",
       "  </tbody>\n",
       "</table>\n",
       "</div>"
      ],
      "text/plain": [
       "ausencias_altas    0   1  All\n",
       "calif                        \n",
       "0                277  78  355\n",
       "1                 35   5   40\n",
       "All              312  83  395"
      ]
     },
     "execution_count": 8,
     "metadata": {},
     "output_type": "execute_result"
    }
   ],
   "source": [
    "#produce contingency table to summarize raw data\n",
    "cross_data = pd.crosstab(index=df['calif'], columns=df['ausencias_altas'], margins=True)\n",
    "cross_data.head()"
   ]
  },
  {
   "cell_type": "code",
   "execution_count": null,
   "id": "a7627aeb",
   "metadata": {},
   "outputs": [],
   "source": []
  },
  {
   "cell_type": "markdown",
   "id": "f5b78140",
   "metadata": {},
   "source": [
    "Sea P(A) la probabilidad de obtener calificación mayor a 80.\n",
    "Sea P(B) la probabilidad de faltar a 10 o más clases.\n",
    "\n",
    "P(A|B) es la probabilidad de obtener una calificación mayor a 80 dado que faltó a 10 o más clases."
   ]
  },
  {
   "cell_type": "code",
   "execution_count": 9,
   "id": "ae0fdda2",
   "metadata": {},
   "outputs": [
    {
     "data": {
      "text/plain": [
       "395"
      ]
     },
     "execution_count": 9,
     "metadata": {},
     "output_type": "execute_result"
    }
   ],
   "source": [
    "cross_data.iloc[2,2]"
   ]
  },
  {
   "cell_type": "code",
   "execution_count": 10,
   "id": "515df18c",
   "metadata": {},
   "outputs": [],
   "source": [
    "total = cross_data.iloc[2,2] # 277+35+78+5\n",
    "A = cross_data.iloc[1,2] # 35+5\n",
    "B = cross_data.iloc[2,1] #78+5"
   ]
  },
  {
   "cell_type": "code",
   "execution_count": 11,
   "id": "db8b2ace",
   "metadata": {},
   "outputs": [
    {
     "data": {
      "text/plain": [
       "(0.10126582278481013, 0.21012658227848102)"
      ]
     },
     "execution_count": 11,
     "metadata": {},
     "output_type": "execute_result"
    }
   ],
   "source": [
    "PA = A/total\n",
    "PB = B/total\n",
    "PA, PB"
   ]
  },
  {
   "cell_type": "markdown",
   "id": "eab92f60",
   "metadata": {},
   "source": [
    "Para $P(A ∩ B)$ tenemos:"
   ]
  },
  {
   "cell_type": "code",
   "execution_count": 12,
   "id": "caf42b04",
   "metadata": {},
   "outputs": [
    {
     "data": {
      "text/plain": [
       "0.012658227848101266"
      ]
     },
     "execution_count": 12,
     "metadata": {},
     "output_type": "execute_result"
    }
   ],
   "source": [
    "AintB = cross_data.iloc[1,1]\n",
    "PAintB = AintB/total\n",
    "PAintB"
   ]
  },
  {
   "cell_type": "markdown",
   "id": "9dabbf8b",
   "metadata": {},
   "source": [
    "Calculemos $P(A|B) = \\frac{P(A ∩ B)}{P(B)}$"
   ]
  },
  {
   "cell_type": "code",
   "execution_count": 13,
   "id": "ad6f34bf",
   "metadata": {},
   "outputs": [
    {
     "name": "stdout",
     "output_type": "stream",
     "text": [
      "La probabilidad de que un estudiante obtenga una calificación mayoral 80% si falta a 10 o más clases es: 0.060\n",
      "De cada 100 estudiantes, solo 6.024% obtendría una calificación mayor al 80%\n"
     ]
    }
   ],
   "source": [
    "PAdadoB = PAintB/PB\n",
    "\n",
    "print(\"La probabilidad de que un estudiante obtenga una calificación mayor\"\n",
    "      \"al 80% si falta a 10 o más clases es: {:.3f}\".format(PAdadoB))\n",
    "\n",
    "print(\"De cada 100 estudiantes, solo {:.3f}% obtendría una calificación mayor al 80%\".format(PAdadoB*100))"
   ]
  },
  {
   "cell_type": "markdown",
   "id": "8d896bbe",
   "metadata": {},
   "source": [
    "### 2. Ejercicio: Calcular la probabilidad de que un estudiante obtenga una calificación menor a 8 si consume alcohol entre semana de manera alta (Dalc >= 4)."
   ]
  },
  {
   "cell_type": "code",
   "execution_count": null,
   "id": "7c39f242",
   "metadata": {},
   "outputs": [],
   "source": []
  },
  {
   "cell_type": "markdown",
   "id": "761c5884",
   "metadata": {},
   "source": [
    "## 1.2. Probabilidad total\n",
    "\n",
    "### $P(B) = P(B ∩ A_1 ) + P(B ∩ A_2 ) + P(B ∩ A_3 ) +...+ P(B ∩ A_n)$\n",
    "    \n",
    "\n",
    "### 3. Práctica: Usando los datos del caso anterior, probar que $P(B) = P(B ∩ A_1 ) + P(B ∩ A_2)$, considérese que P(B) es la probabilidad total de que un estudiante obtenga una calificación mayor igual al 80%. ¿Quiénes serían $A_1$ y $A_2$?"
   ]
  },
  {
   "cell_type": "code",
   "execution_count": null,
   "id": "5b7137c2",
   "metadata": {},
   "outputs": [],
   "source": []
  },
  {
   "cell_type": "markdown",
   "id": "6e8d5144",
   "metadata": {},
   "source": [
    "## 1.3. Teorema de Bayes\n",
    "\n",
    "![](https://miro.medium.com/v2/resize:fit:720/format:webp/1*CnoTGGO7XeUpUMeXDrIfvA.png)"
   ]
  },
  {
   "cell_type": "code",
   "execution_count": 14,
   "id": "27954411",
   "metadata": {},
   "outputs": [],
   "source": [
    "# calculate P(A|B) given P(A), P(B|A), P(B|not A)\n",
    "def bayes_theorem(p_a, p_b_given_a, p_b_given_not_a):\n",
    "    # calculate P(not A)\n",
    "    not_a = 1 - p_a\n",
    "    # calculate P(B)\n",
    "    p_b = p_b_given_a * p_a + p_b_given_not_a * not_a\n",
    "    # calculate P(A|B)\n",
    "    p_a_given_b = (p_b_given_a * p_a) / p_b\n",
    "    return p_a_given_b"
   ]
  },
  {
   "cell_type": "markdown",
   "id": "649416cc",
   "metadata": {},
   "source": [
    "Calculemos $P(A|not B) = \\frac{P(A ∩ not B)}{P(not B)}$"
   ]
  },
  {
   "cell_type": "code",
   "execution_count": 15,
   "id": "f1be771f",
   "metadata": {},
   "outputs": [
    {
     "data": {
      "text/html": [
       "<div>\n",
       "<style scoped>\n",
       "    .dataframe tbody tr th:only-of-type {\n",
       "        vertical-align: middle;\n",
       "    }\n",
       "\n",
       "    .dataframe tbody tr th {\n",
       "        vertical-align: top;\n",
       "    }\n",
       "\n",
       "    .dataframe thead th {\n",
       "        text-align: right;\n",
       "    }\n",
       "</style>\n",
       "<table border=\"1\" class=\"dataframe\">\n",
       "  <thead>\n",
       "    <tr style=\"text-align: right;\">\n",
       "      <th>ausencias_altas</th>\n",
       "      <th>0</th>\n",
       "      <th>1</th>\n",
       "      <th>All</th>\n",
       "    </tr>\n",
       "    <tr>\n",
       "      <th>calif</th>\n",
       "      <th></th>\n",
       "      <th></th>\n",
       "      <th></th>\n",
       "    </tr>\n",
       "  </thead>\n",
       "  <tbody>\n",
       "    <tr>\n",
       "      <th>0</th>\n",
       "      <td>277</td>\n",
       "      <td>78</td>\n",
       "      <td>355</td>\n",
       "    </tr>\n",
       "    <tr>\n",
       "      <th>1</th>\n",
       "      <td>35</td>\n",
       "      <td>5</td>\n",
       "      <td>40</td>\n",
       "    </tr>\n",
       "    <tr>\n",
       "      <th>All</th>\n",
       "      <td>312</td>\n",
       "      <td>83</td>\n",
       "      <td>395</td>\n",
       "    </tr>\n",
       "  </tbody>\n",
       "</table>\n",
       "</div>"
      ],
      "text/plain": [
       "ausencias_altas    0   1  All\n",
       "calif                        \n",
       "0                277  78  355\n",
       "1                 35   5   40\n",
       "All              312  83  395"
      ]
     },
     "execution_count": 15,
     "metadata": {},
     "output_type": "execute_result"
    }
   ],
   "source": [
    "cross_data.head()"
   ]
  },
  {
   "cell_type": "markdown",
   "id": "d35cd599",
   "metadata": {},
   "source": [
    "### Ejemplo 1 (práctica). Calculemos P(B|A) del caso anterior."
   ]
  },
  {
   "cell_type": "code",
   "execution_count": 19,
   "id": "014e326b",
   "metadata": {},
   "outputs": [
    {
     "name": "stdout",
     "output_type": "stream",
     "text": [
      "P(B|A) = 0.125 equivale a la probabilidad de que un estudiante haya faltado más de diez vecesdado que obtuvo una calificación superior al 80%\n"
     ]
    }
   ],
   "source": [
    "notB = cross_data.iloc[2,0]\n",
    "PnotB = notB/total\n",
    "AintnotB = cross_data.iloc[1,0]\n",
    "PAintnotB =  AintnotB/total\n",
    "PAdadoNOB = PAintnotB/PnotB\n",
    "\n",
    "result = bayes_theorem(PB, PAdadoB, PAdadoNOB)\n",
    "# summarize\n",
    "print(\"P(B|A) = {:.3f} equivale a la probabilidad de que un estudiante haya faltado más de diez veces\"\n",
    "      \"dado que obtuvo una calificación superior al 80%\".format(result))"
   ]
  },
  {
   "cell_type": "markdown",
   "id": "000a49f3",
   "metadata": {},
   "source": [
    "### Ejemplo 2. Un detector de spam identifica que el 20% del spam de un usuario contiene la palabra \"free\". Si se asume que el 0.1% de los correos no marcados como spam incluyen la palabra \"free\" y que el 50% de todos los correos recibidos por el usuario son spam, ¿cuál sería la probabilidad de que un mensaje sea spam si contiene la palabra \"free\"?\n",
    "\n",
    "\n",
    "\n",
    "    P(Free | Spam) = 0.20\n",
    "\n",
    "    P(Free | Non Spam) = 0.001\n",
    "\n",
    "    P(Spam) = 0.50 => P(Non Spam) = 0.50\n",
    "\n",
    "    P(Spam | Free) = ?\n",
    "    \n",
    "    \n",
    "![](https://miro.medium.com/v2/resize:fit:720/format:webp/0*ZZmHng0wEjr2xyYW.png)\n",
    "\n",
    "### Ejercicio, ¿cuál sería la probabilidad de que un mensaje sea spam si contiene la palabra \"free\" si se asume que solo el 30% de los correos recibidos por el usuario son spam?"
   ]
  },
  {
   "cell_type": "code",
   "execution_count": null,
   "id": "2ac021a8",
   "metadata": {},
   "outputs": [],
   "source": []
  }
 ],
 "metadata": {
  "kernelspec": {
   "display_name": "Python 3 (ipykernel)",
   "language": "python",
   "name": "python3"
  },
  "language_info": {
   "codemirror_mode": {
    "name": "ipython",
    "version": 3
   },
   "file_extension": ".py",
   "mimetype": "text/x-python",
   "name": "python",
   "nbconvert_exporter": "python",
   "pygments_lexer": "ipython3",
   "version": "3.10.6"
  }
 },
 "nbformat": 4,
 "nbformat_minor": 5
}
